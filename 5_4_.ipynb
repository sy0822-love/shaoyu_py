{
  "nbformat": 4,
  "nbformat_minor": 0,
  "metadata": {
    "colab": {
      "provenance": []
    },
    "kernelspec": {
      "name": "python3",
      "display_name": "Python 3"
    },
    "language_info": {
      "name": "python"
    }
  },
  "cells": [
    {
      "cell_type": "markdown",
      "source": [
        "Reply Template Messages"
      ],
      "metadata": {
        "id": "h_OmWYBZZUR8"
      }
    },
    {
      "cell_type": "code",
      "source": [
        "!pip install -q pyngrok flask_ngrok\n",
        "!pip install - q flask line-bot-sdk"
      ],
      "metadata": {
        "id": "oriH8hRndgVg"
      },
      "execution_count": null,
      "outputs": []
    },
    {
      "cell_type": "code",
      "execution_count": null,
      "metadata": {
        "id": "u96Ey2r9XM7R"
      },
      "outputs": [],
      "source": [
        "#for colab\n",
        "\n",
        "from google.colab import userdata\n",
        "from pyngrok import ngrok\n",
        "from flask_ngrok  import  run_with_ngrok\n",
        "def ngrok_start( ):ngrok.set_auth_token(userdata.get ('NGROK_AUTHTOKEN') )\n",
        "ngrok.connect (5000)\n",
        "run_with_ngrok(app)\n",
        "\n",
        "from flask import Flask, request, abort\n",
        "from linebot.v3 import WebhookHandler\n",
        "from linebot.v3.exceptions import InvalidSignatureError\n",
        "from linebot.v3.webhooks import MessageEvent, TextMessageContent\n",
        "from linebot.v3.messaging import (\n",
        "    Configuration, ApiClient, MessagingApi, ReplyMessageRequest, TextMessage,\n",
        "    TemplateMessage, ConfirmTemplate, MessageAction,CarouselTemplate,\n",
        "    CarouselColumn, URIAction\n",
        ")\n",
        "\n",
        "app = Flask(___name__)\n",
        "@app.route(\"/\", methods=['GET'])\n",
        "def  index ( ):\n",
        "    return 'Hello! '\n",
        "\n",
        "configuration = Configuration(access_token=userdata.get ('LINE_CHANNEL_ACCESS_TOKEN'))\n",
        "handler=WebhookHandle(userdata get ('LINE_CHANNEL_SECRET' ))\n",
        "\n",
        "@app.route(\"/callback\", methods=[ 'POST' ])\n",
        "def callback( ):\n",
        "  signature = request.headers ['X-Line-Signature']\n",
        "  body = request-get_data(as_text=True)\n",
        "  try:\n",
        "    handler.handle(body, signature)\n",
        "  except InvalidSignatureError:\n",
        "    abort (400)\n",
        "  return 'OK'\n",
        "\n",
        "@handler.add (MessageEvent, message=TextMessageContent)\n",
        "def handle_message(event):\n",
        "  with ApiClient(configuration) as api_client:\n",
        "  line_bot_api = MessagingApi (api_client)\n",
        "\n",
        "  action = event.message.text\n",
        "  if action == 'confirm':\n",
        "    template = ConfirmTemplate(\n",
        "      text=\"你喜歡葬送的芙莉蓮嗎？\"\n",
        "      actions=[\n",
        "          MessageAction label=\"是\",text=\"我超喜歡芙莉蓮！\"\n",
        "          MessageAction label=\"否\",text=\"其實我非常喜歡，只是我要傲嬌的說不\"]\n",
        "      )\n",
        "      elif action == 'carousel':\n",
        "            carousel_template = CarouselTemplate(\n",
        "                columns=[\n",
        "                    CarouselColumn(\n",
        "                        thumbnail_image_url=\"https://example.com/image1.jpg\",\n",
        "                        title=\"學習單一\",\n",
        "                        text=\"點選下方查看學習單\",\n",
        "                        actions=[\n",
        "                            URIAction(label=\"查看\", uri=\"https://example.com/worksheet1\")\n",
        "                        ]\n",
        "                    ),\n",
        "                    CarouselColumn(\n",
        "                        thumbnail_image_url=\"https://example.com/image2.jpg\",\n",
        "                        title=\"學習單二\",\n",
        "                        text=\"點選下方查看學習單\",\n",
        "                        actions=[\n",
        "                            URIAction(label=\"查看\", uri=\"https://example.com/worksheet2\")\n",
        "                        ]\n",
        "                    )\n",
        "                ]\n",
        "            )\n",
        "            reply = TemplateMessage (\n",
        "                alt_text=\"這是確認視窗\"\n",
        "                template=template)\n",
        "        else:\n",
        "            reply = TextMessage(text='Please type \"confirm\"!')\n",
        "        line_bot_api.reply_message(\n",
        "            ReplyMessageRequest(\n",
        "                    reply_token=event.reply_token,\n",
        "                    messages=[\n",
        "                        reply\n",
        "                    ]\n",
        "            )\n",
        "        )\n",
        "\n",
        "ngrok_start(  )\n",
        "if__name__ ==\"__main__\":\n",
        "    app.run(  )"
      ]
    }
  ]
}