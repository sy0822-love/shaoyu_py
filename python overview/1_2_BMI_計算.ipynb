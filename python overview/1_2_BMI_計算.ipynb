{
  "nbformat": 4,
  "nbformat_minor": 0,
  "metadata": {
    "colab": {
      "provenance": []
    },
    "kernelspec": {
      "name": "python3",
      "display_name": "Python 3"
    },
    "language_info": {
      "name": "python"
    }
  },
  "cells": [
    {
      "cell_type": "code",
      "execution_count": null,
      "metadata": {
        "id": "c71nZL0AYs2g"
      },
      "outputs": [],
      "source": [
        "def calculate_bmi():\n",
        "    try:\n",
        "        weight = float(input(\"enter your weight(kg): \"))\n",
        "        height = float(input(\"enter your height (m): \"))\n",
        "\n",
        "        #  BMI calculation\n",
        "        bmi = weight / (height ** 2)\n",
        "\n",
        "        #  BMI classification\n",
        "        if bmi < 18.5:\n",
        "            category = \"underwight\"\n",
        "        elif 18.5 <= bmi < 24:\n",
        "            category = \"normal\"\n",
        "        elif 24 <= bmi < 27:\n",
        "            category = \"overweight\"\n",
        "        elif 27 <= bmi < 30:\n",
        "            category = \"mild obesity\"\n",
        "        else:\n",
        "            category = \"moderate and severe obesity\"\n",
        "\n",
        "        # result output\n",
        "        print(f\"your bmi: {bmi:.2f}\")\n",
        "        print(f\"your weight classification: {category}\")\n",
        "\n",
        "    except ValueError:\n",
        "        print(\"error！\")\n",
        "\n",
        "calculate_bmi()"
      ]
    }
  ]
}