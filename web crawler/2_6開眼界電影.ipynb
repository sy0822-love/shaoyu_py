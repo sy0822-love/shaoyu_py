{
  "nbformat": 4,
  "nbformat_minor": 0,
  "metadata": {
    "colab": {
      "provenance": []
    },
    "kernelspec": {
      "name": "python3",
      "display_name": "Python 3"
    },
    "language_info": {
      "name": "python"
    }
  },
  "cells": [
    {
      "cell_type": "code",
      "execution_count": null,
      "metadata": {
        "colab": {
          "base_uri": "https://localhost:8080/",
          "height": 35
        },
        "id": "SVLqqRsYE1AW",
        "outputId": "c78e0358-f6a3-48d4-c133-18dbba1611d8"
      },
      "outputs": [
        {
          "output_type": "execute_result",
          "data": {
            "text/plain": [
              "'開眼電影網首頁--近期上映--'"
            ],
            "application/vnd.google.colaboratory.intrinsic+json": {
              "type": "string"
            }
          },
          "metadata": {},
          "execution_count": 1
        }
      ],
      "source": [
        "import requests\n",
        "from bs4 import BeautifulSoup\n",
        "\n",
        "url = 'https://www.atmovies.com.tw/movie/next/'\n",
        "html = requests.get(url)\n",
        "html.encoding = 'utf-8'\n",
        "soup = BeautifulSoup(html.text, 'lxml')\n",
        "soup.title.text"
      ]
    },
    {
      "cell_type": "code",
      "source": [
        "import os\n",
        "import csv\n",
        "\n",
        "if not os.path.exists('./content/movies'):\n",
        "    os.makedirs('./content/movies')\n",
        "\n",
        "movies = [['片名', '上映日期']]\n",
        "\n",
        "for mv in soup.find('ul', class_='filmListAllX').find_all('li'):\n",
        "    ttl = mv.find('div', class_='filmtitle').text\n",
        "    src = mv.img['src'].strip()\n",
        "    dat = mv.find('div', class_='runtime').text\n",
        "    movies.append([ttl, dat])\n",
        "    print(ttl, dat, src)\n",
        "    response = requests.get(src)\n",
        "    with open(f'./content/movies/{ttl}.jpg', 'wb') as f:\n",
        "        f.write(response.content)\n",
        "\n",
        "with open('./content/movies.csv', 'w', newline='') as f:\n",
        "    writer = csv.writer(f)\n",
        "    writer.writerows(movies)\n"
      ],
      "metadata": {
        "id": "SD9z0ZQRFAJT",
        "colab": {
          "base_uri": "https://localhost:8080/"
        },
        "outputId": "c2f5c2eb-45b7-40c4-bcbc-6b1388836823"
      },
      "execution_count": null,
      "outputs": [
        {
          "output_type": "stream",
          "name": "stdout",
          "text": [
            "會計師2 上映日期：2025/04/24\n",
            "  片長：124分\t http://www.atmovies.com.tw/photo101/faen47068946/pl_faen47068946_0002.jpg\n",
            "直到黎明 上映日期：2025/04/25\n",
            "   http://www.atmovies.com.tw/photo101/fuen30955489/pl_fuen30955489_0001.jpg\n",
            "雷霆特攻隊* 上映日期：2025/04/30\n",
            "   http://www.atmovies.com.tw/photo101/ften20969586/pl_ften20969586_0005.jpg\n",
            "黑袋行動 上映日期：2025/04/30\n",
            "   http://www.atmovies.com.tw/photo101/fben30988739/pl_fben30988739_0001.jpg\n",
            "不可能的任務：最終清算 上映日期：2025/05/23\n",
            "   http://www.atmovies.com.tw/photo101/fmen62168299/pl_fmen62168299_0003.jpg\n",
            "馴龍高手 上映日期：2025/06/11\n",
            "\t\t\t\t\t\t   http://www.atmovies.com.tw/photo101/fhen26743210/pl_fhen26743210_0001.jpg\n",
            "28年毀滅倒數 上映日期：2025/06/18\n",
            "\t\t\t\t\t\t   http://www.atmovies.com.tw/photo101/fyen10548174/pl_fyen10548174_0001.jpg\n",
            "名偵探柯南：獨眼的殘像 上映日期：2025/06/25\n",
            "\t\t\t\t\t\t   http://www.atmovies.com.tw/photo101/fdjp35891502/pl_fdjp35891502_0001.jpg\n",
            "F1® 上映日期：2025/06/26\n",
            "\t\t\t\t\t\t   http://www.atmovies.com.tw/photo101/ffen16311594/pl_ffen16311594_0001.jpg\n",
            "窒友梅根 2.0 上映日期：2025/06/27\n",
            "\t\t\t\t\t\t   http://www.atmovies.com.tw/photo101/fmen26342662/pl_fmen26342662_0002.jpg\n",
            "侏羅紀世界：重生 上映日期：2025/07/04\n",
            "\t\t\t\t\t\t   http://www.atmovies.com.tw/photo101/fjen31036941/pl_fjen31036941_0001.jpg\n",
            "超人 上映日期：2025/07/09\n",
            "\t\t\t\t\t\t   http://www.atmovies.com.tw/photo101/fsen45950044/pl_fsen45950044_0001.jpg\n",
            "驚奇4超人：第一步 上映日期：2025/07/23\n",
            "\t\t\t\t\t\t   http://www.atmovies.com.tw/photo101/ffen10676052/pl_ffen10676052_0007.jpg\n",
            "壞蛋聯盟2 上映日期：2025/08/01\n",
            "\t\t\t\t\t\t   http://www.atmovies.com.tw/photo101/fben30017619/pl_fben30017619_0001.jpg\n",
            "劇場版「鬼滅之刃」無限城篇 上映日期：2025/08/08\n",
            "\t\t\t\t\t\t   http://www.atmovies.com.tw/photo101/fdjp32820897/pl_fdjp32820897_0001.jpg\n",
            "天作之合 上映日期：2025/08/29\n",
            "\t\t\t\t\t\t   http://www.atmovies.com.tw/photo101/fmen30253473/pl_fmen30253473_0001.jpg\n",
            "劇場版『鏈鋸人 蕾潔篇』 上映日期：2025/09/24\n",
            "\t\t\t\t\t\t   http://www.atmovies.com.tw/photo101/fcjp30472557/pl_fcjp30472557_0001.jpg\n",
            "動物方城市2 上映日期：2025/11/26\n",
            "\t\t\t\t\t\t   http://www.atmovies.com.tw/photo101/fzen31187839/pl_fzen31187839_0001.jpg\n",
            "阿凡達：火與灰燼 上映日期：2025/12/18\n",
            "\t\t\t\t\t\t   http://www.atmovies.com.tw/photo101/faen71757678/pl_faen71757678_0001.jpg\n",
            "復仇者聯盟5 上映日期：2026/05/01\n",
            "\t\t\t\t\t\t   http://www.atmovies.com.tw/photo101/faen21357150/pl_faen21357150_0001.jpg\n",
            "玩具總動員5 上映日期：2026/06/19\n",
            "\t\t\t\t\t\t   http://www.atmovies.com.tw/photo101/ften29355505/pl_ften29355505_0001.jpg\n"
          ]
        }
      ]
    }
  ]
}