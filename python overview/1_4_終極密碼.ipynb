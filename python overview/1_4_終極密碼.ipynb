{
  "nbformat": 4,
  "nbformat_minor": 0,
  "metadata": {
    "colab": {
      "provenance": []
    },
    "kernelspec": {
      "name": "python3",
      "display_name": "Python 3"
    },
    "language_info": {
      "name": "python"
    }
  },
  "cells": [
    {
      "cell_type": "code",
      "execution_count": null,
      "metadata": {
        "id": "qo_NnFdyaCN1"
      },
      "outputs": [],
      "source": [
        "import random\n",
        "bomb=random.randint(1,99)\n",
        "\n",
        "lf=0\n",
        "rt=100\n",
        "\n",
        "while True:\n",
        "    print(lf,'-',rt)\n",
        "    gu=int(input('guess'))\n",
        "\n",
        "    if gu <= lf or gu >= rt:\n",
        "        print('excess the range')\n",
        "        continue\n",
        "    elif gu < bomb:\n",
        "        lf=gu\n",
        "    elif gu >bomb:\n",
        "        rt=gu\n",
        "    else:\n",
        "        print('you got it')\n",
        "        break"
      ]
    }
  ]
}