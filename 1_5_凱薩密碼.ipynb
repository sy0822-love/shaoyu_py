{
  "nbformat": 4,
  "nbformat_minor": 0,
  "metadata": {
    "colab": {
      "provenance": []
    },
    "kernelspec": {
      "name": "python3",
      "display_name": "Python 3"
    },
    "language_info": {
      "name": "python"
    }
  },
  "cells": [
    {
      "cell_type": "code",
      "execution_count": null,
      "metadata": {
        "id": "qo_NnFdyaCN1"
      },
      "outputs": [],
      "source": [
        "act=input()\n",
        "txt=input()\n",
        "\n",
        "act_type=act[0]\n",
        "key=int(act[1:])\n",
        "ntxt=''\n",
        "\n",
        "if act_type == 'd':\n",
        "    for c in txt:\n",
        "        nc=ord(c) - key\n",
        "    ntxt=ntxt+chr(nc)\n",
        "else:\n",
        "    for c in txt:\n",
        "        nc=ord(c)+key\n",
        "        ntxt=ntxt=chr(nc)\n",
        "print(ntxt)"
      ]
    }
  ]
}