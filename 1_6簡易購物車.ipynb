{
  "nbformat": 4,
  "nbformat_minor": 0,
  "metadata": {
    "colab": {
      "provenance": []
    },
    "kernelspec": {
      "name": "python3",
      "display_name": "Python 3"
    },
    "language_info": {
      "name": "python"
    }
  },
  "cells": [
    {
      "cell_type": "code",
      "execution_count": null,
      "metadata": {
        "id": "qo_NnFdyaCN1"
      },
      "outputs": [],
      "source": [
        "from IPython.display import clear_output\n",
        "\n",
        "# 商品清單與價格\n",
        "products = {\n",
        "    \"apple\": 25,\n",
        "    \"banana\": 12,\n",
        "    \"cherry\": 30\n",
        "}\n",
        "\n",
        "shopping_cart = []\n",
        "\n",
        "while True:\n",
        "    clear_output()\n",
        "\n",
        "    print(\"商品欄：\")\n",
        "    print(\"\\n\".join([f\"{pd}: {pr}元\" for pd, pr in products.items()]))\n",
        "\n",
        "\n",
        "    print(\"\\n購物車：\")\n",
        "    if shopping_cart:\n",
        "        print(\", \".join(shopping_cart))\n",
        "    else:\n",
        "        print(\"empty\")\n",
        "\n",
        "    # 功能選單\n",
        "    print(\"\\n功能列：\")\n",
        "    print(\"1. 新增商品  2. 移除商品  3. 結帳  4. 離開\")\n",
        "\n",
        "    # 取得使用者輸入\n",
        "    act = input(\"請輸入選項（1-4）：\")\n",
        "\n",
        "    if act == '1':\n",
        "        item = input(\"請輸入要新增的商品名稱：\")\n",
        "        if item in products:\n",
        "            shopping_cart.append(item)\n",
        "            print(f\"{item} 已加入購物車！\")\n",
        "        else:\n",
        "            print(\"商品不存在，請重新輸入！\")\n",
        "\n",
        "    elif act == '2':\n",
        "        item = input(\"請輸入要移除的商品名稱：\")\n",
        "        if item in shopping_cart:\n",
        "            shopping_cart.remove(item)\n",
        "            print(f\"{item} 已從購物車移除！\")\n",
        "        else:\n",
        "            print(\"購物車內無此商品！\")\n",
        "\n",
        "    elif act == '3':\n",
        "        total = sum(products[pd] for pd in shopping_cart)\n",
        "        print(f\"\\n結帳金額：{total} 元\")\n",
        "        break  # 結帳後離開迴圈\n",
        "\n",
        "    elif act == '4':\n",
        "        print(\"Bye!\")\n",
        "        break  # 離開程式\n",
        "\n",
        "    else:\n",
        "        print(\"無效選項，請重新輸入！\")\n",
        "\n",
        "    input(\"\\n按 Enter 繼續...\")"
      ]
    }
  ]
}