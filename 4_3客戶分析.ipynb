{
  "nbformat": 4,
  "nbformat_minor": 0,
  "metadata": {
    "colab": {
      "provenance": []
    },
    "kernelspec": {
      "name": "python3",
      "display_name": "Python 3"
    },
    "language_info": {
      "name": "python"
    }
  },
  "cells": [
    {
      "cell_type": "markdown",
      "source": [
        "\n",
        "資料收集\n",
        "\n"
      ],
      "metadata": {
        "id": "LaBsrAaQuCpH"
      }
    },
    {
      "cell_type": "code",
      "source": [
        "!wget -O customer_contact_status.csv https://raw.githubusercontent.com/imchihchao/aop113b/main/materials/04-dataset_customer_contact_status.csv"
      ],
      "metadata": {
        "colab": {
          "base_uri": "https://localhost:8080/"
        },
        "id": "1rdYgULYvcbo",
        "outputId": "91b824e1-fcbf-4195-9896-9a82d5f49f23"
      },
      "execution_count": null,
      "outputs": [
        {
          "output_type": "stream",
          "name": "stdout",
          "text": [
            "--2025-05-27 07:56:06--  https://raw.githubusercontent.com/imchihchao/aop113b/main/materials/04-dataset_customer_contact_status.csv\n",
            "Resolving raw.githubusercontent.com (raw.githubusercontent.com)... 185.199.108.133, 185.199.110.133, 185.199.109.133, ...\n",
            "Connecting to raw.githubusercontent.com (raw.githubusercontent.com)|185.199.108.133|:443... connected.\n",
            "HTTP request sent, awaiting response... 200 OK\n",
            "Length: 2571725 (2.5M) [text/plain]\n",
            "Saving to: ‘customer_contact_status.csv’\n",
            "\n",
            "customer_contact_st 100%[===================>]   2.45M  9.25MB/s    in 0.3s    \n",
            "\n",
            "2025-05-27 07:56:06 (9.25 MB/s) - ‘customer_contact_status.csv’ saved [2571725/2571725]\n",
            "\n"
          ]
        }
      ]
    },
    {
      "cell_type": "code",
      "source": [
        "import pandas as pd\n",
        "url='https://raw.githubusercontent.com/imchihchao/aop113b/main/materials/04-customer.csv'\n",
        "df = pd.read_csv(url)\n",
        "df.head()"
      ],
      "metadata": {
        "id": "Nc8KrLY5uHFT"
      },
      "execution_count": null,
      "outputs": []
    },
    {
      "cell_type": "markdown",
      "source": [
        "資料前處理"
      ],
      "metadata": {
        "id": "98V1-iKqrKHi"
      }
    },
    {
      "cell_type": "code",
      "execution_count": null,
      "metadata": {
        "colab": {
          "base_uri": "https://localhost:8080/",
          "height": 141
        },
        "id": "dRYN-ZLZrFE5",
        "outputId": "c1e65ffc-3bde-4570-b3fb-de6592da8858"
      },
      "outputs": [
        {
          "output_type": "error",
          "ename": "NameError",
          "evalue": "name 'df' is not defined",
          "traceback": [
            "\u001b[0;31m---------------------------------------------------------------------------\u001b[0m",
            "\u001b[0;31mNameError\u001b[0m                                 Traceback (most recent call last)",
            "\u001b[0;32m<ipython-input-3-a74c58233b9e>\u001b[0m in \u001b[0;36m<cell line: 0>\u001b[0;34m()\u001b[0m\n\u001b[0;32m----> 1\u001b[0;31m \u001b[0mdf\u001b[0m\u001b[0;34m.\u001b[0m\u001b[0minfo\u001b[0m\u001b[0;34m(\u001b[0m\u001b[0;34m)\u001b[0m\u001b[0;34m\u001b[0m\u001b[0;34m\u001b[0m\u001b[0m\n\u001b[0m",
            "\u001b[0;31mNameError\u001b[0m: name 'df' is not defined"
          ]
        }
      ],
      "source": [
        "df.info()"
      ]
    },
    {
      "cell_type": "markdown",
      "source": [
        "探索性分析"
      ],
      "metadata": {
        "id": "LrBOpm6rrQXJ"
      }
    },
    {
      "cell_type": "code",
      "source": [
        "df_cor = df.drop(colunms='性別').corr()\n",
        "df_cor"
      ],
      "metadata": {
        "id": "0sKMKsZprSsr"
      },
      "execution_count": null,
      "outputs": []
    },
    {
      "cell_type": "markdown",
      "source": [
        "類別轉換"
      ],
      "metadata": {
        "id": "imm-CpMPw_e2"
      }
    },
    {
      "cell_type": "code",
      "source": [
        "df['性別'].unique()"
      ],
      "metadata": {
        "id": "TifXDvVLxBtH"
      },
      "execution_count": null,
      "outputs": []
    },
    {
      "cell_type": "code",
      "source": [
        "from sklearn.preprocessing import OrdinalEncoder\n",
        "encorder= OrdinalEncoder(categories=[['女,男']])\n",
        "df['性別'] = le.fit_transform(df['性別'])\n",
        "df.head()"
      ],
      "metadata": {
        "id": "LB-D1rOrxJv0"
      },
      "execution_count": null,
      "outputs": []
    },
    {
      "cell_type": "markdown",
      "source": [
        "模型訓練"
      ],
      "metadata": {
        "id": "1IzMwKWDsrRR"
      }
    },
    {
      "cell_type": "code",
      "source": [
        "from sklearn.cluster import Kmeans\n",
        "Kmeans = Kmeans(n_clusters=k)\n",
        "Kmeans.fit(df)"
      ],
      "metadata": {
        "id": "SVV-wD5_stnY"
      },
      "execution_count": null,
      "outputs": []
    },
    {
      "cell_type": "code",
      "source": [
        "df['cluster']=kmeans.labels\n",
        "df"
      ],
      "metadata": {
        "id": "4CVH7TZms5zK"
      },
      "execution_count": null,
      "outputs": []
    },
    {
      "cell_type": "markdown",
      "source": [
        "模型評估"
      ],
      "metadata": {
        "id": "t1eM-WomtGn3"
      }
    },
    {
      "cell_type": "code",
      "source": [
        "df.groupby('cluster').mean()"
      ],
      "metadata": {
        "id": "FIirppnttJN0"
      },
      "execution_count": null,
      "outputs": []
    },
    {
      "cell_type": "markdown",
      "source": [
        "模型調整"
      ],
      "metadata": {
        "id": "BpuY2JGatRs3"
      }
    },
    {
      "cell_type": "code",
      "source": [
        "for i in range(2,16)\n",
        "  kmeans = KMeans(n_clusters=i)\n",
        "  kmeans.fit(df)\n",
        "  score = calinski_harabasz_score(df_nocluster,kmeans.labels_)\n",
        "  print(f'k={i} score={score}')"
      ],
      "metadata": {
        "id": "wubNHPT1tWVH"
      },
      "execution_count": null,
      "outputs": []
    },
    {
      "cell_type": "markdown",
      "source": [
        "模型部署"
      ],
      "metadata": {
        "id": "sk3_dhKtuuSV"
      }
    }
  ]
}