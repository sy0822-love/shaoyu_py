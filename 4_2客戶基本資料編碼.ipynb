{
  "nbformat": 4,
  "nbformat_minor": 0,
  "metadata": {
    "colab": {
      "provenance": []
    },
    "kernelspec": {
      "name": "python3",
      "display_name": "Python 3"
    },
    "language_info": {
      "name": "python"
    }
  },
  "cells": [
    {
      "cell_type": "code",
      "execution_count": null,
      "metadata": {
        "id": "N6N1A35g0qZM"
      },
      "outputs": [],
      "source": [
        "!wget -0 customer_contact_status.csv https://raw.githubusercontent.com/imchihchao/aop113b/main/materials/04-dataset_customer_contact_status.csv\n",
        "\n",
        "\n",
        "import pandas as pd\n",
        "url = 'https://raw.githubusercontent.com/imchihchao/aop113b/main/materials/04-dataset_customer_contact_status.csv'\n",
        "df = pd. read_esv(url)\n",
        "df. head( )\n",
        "\n",
        "\n",
        " df['學歷'].unique(),df['連絡方式'].unique(),df['訂購'].unique( )\n",
        "\n",
        "from sklearn.preprocessing import OrdinalEncoder\n",
        "encorder = OrdinalEncoder (categories=[['小學','國中','高職','高中','專科','大學','博士'],['市話','手機'],['從未','一次','偶爾','頻繁']\n",
        "df['學歷','連絡方式','訂購']= encoder.fit_transform(df[['學歷','連絡方式','訂購']])\n",
        "df\n",
        "\n",
        "from sklearn.preprocessing import OrdinalEncoder\n",
        "encoder = OneHotEncoder(sparse_output=False, drop='first')\n",
        "encoded_data = encoder.fit_transform(df[['工作','婚姻']])\n",
        "encoded_columns = encoder.get_feature_names_out(['工作','婚姻'])\n",
        "encoded_df = pd.DataFrame(encoded_data, columns=encoded_columns)\n",
        "encoded df\n",
        "\n",
        "df = pd.concat ([df.drop(columns=['工作', '婚姻']), encoded_df], axis=1)\n",
        "df"
      ]
    }
  ]
}