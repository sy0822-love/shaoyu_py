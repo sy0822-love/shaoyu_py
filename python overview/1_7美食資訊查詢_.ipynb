{
  "cells": [
    {
      "cell_type": "code",
      "execution_count": null,
      "id": "f32438a5",
      "metadata": {
        "id": "f32438a5"
      },
      "outputs": [],
      "source": [
        "!pip install gradio\n",
        "import gradio as gr\n",
        "\n",
        "food_database = [\n",
        "    {\"name\": \"春蘭割包\", \"address\": \"高雄市新興區復興一路5號\", \"phone\": \"+88672817806\"},\n",
        "    {\"name\": \"上海生煎湯包\", \"address\": \"高雄市三民區熱河一街208號\", \"phone\": \"+88673220702\"},\n",
        "    {\"name\": \"岡山舊市羊肉\", \"address\": \"高雄市岡山區河華路111\", \"phone\": \"+88676258151\"},\n",
        "    {\"name\": \"黃家肉燥飯\", \"address\": \"高雄市橋頭區橋南路106號\", \"phone\": \"+88676122325\"},\n",
        "    {\"name\": \"龍記餡餅\", \"address\": \"高雄市岡山區溪東路2號\", \"phone\": \"+886258532756\"}\n",
        "]\n",
        "\n",
        "menu = [im[\"name\"] for im in food_database]\n",
        "\n",
        "def food_info(store_name):\n",
        "    for im in food_database:\n",
        "        if im[\"name\"] == store_name:\n",
        "            info = im[\"name\"] + '\\n' + im[\"address\"] + '\\n' + im[\"phone\"]\n",
        "            return info\n",
        "    return 'Not Found'  # 確保只在所有店家都不符合時才回傳\n",
        "\n",
        "# 建立 Gradio 介面\n",
        "interface = gr.Interface(\n",
        "    fn=food_info,  # 設定介面函數\n",
        "    inputs=gr.Dropdown(choices=menu, label='請選擇餐廳：'),\n",
        "    outputs=gr.Textbox(label='餐廳資訊:')\n",
        ")\n",
        "\n",
        "# 啟動 Gradio 介面\n",
        "interface.launch()\n"
      ]
    },
    {
      "cell_type": "code",
      "execution_count": null,
      "id": "e23f3d6e",
      "metadata": {
        "id": "e23f3d6e"
      },
      "outputs": [],
      "source": []
    },
    {
      "cell_type": "code",
      "execution_count": null,
      "id": "35224081",
      "metadata": {
        "id": "35224081"
      },
      "outputs": [],
      "source": []
    }
  ],
  "metadata": {
    "kernelspec": {
      "display_name": "Python 3 (ipykernel)",
      "language": "python",
      "name": "python3"
    },
    "language_info": {
      "codemirror_mode": {
        "name": "ipython",
        "version": 3
      },
      "file_extension": ".py",
      "mimetype": "text/x-python",
      "name": "python",
      "nbconvert_exporter": "python",
      "pygments_lexer": "ipython3",
      "version": "3.10.9"
    },
    "colab": {
      "provenance": []
    }
  },
  "nbformat": 4,
  "nbformat_minor": 5
}