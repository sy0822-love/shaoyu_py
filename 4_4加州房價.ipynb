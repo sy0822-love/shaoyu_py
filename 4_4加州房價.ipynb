{
  "nbformat": 4,
  "nbformat_minor": 0,
  "metadata": {
    "colab": {
      "provenance": []
    },
    "kernelspec": {
      "name": "python3",
      "display_name": "Python 3"
    },
    "language_info": {
      "name": "python"
    }
  },
  "cells": [
    {
      "cell_type": "code",
      "execution_count": 1,
      "metadata": {
        "id": "ue1dPPf22_D3"
      },
      "outputs": [],
      "source": [
        "import numpy as np\n",
        "import pandas as pd\n",
        "import seaborn as sns\n",
        "import matplotlib.pyplot as plt\n",
        "%matplotlib inline"
      ]
    },
    {
      "cell_type": "code",
      "source": [
        "df = pd.read_csv('D:\\\\Datasets\\\\insurance.csv')\n",
        "df.head()"
      ],
      "metadata": {
        "id": "T7-A-Va43O-z"
      },
      "execution_count": null,
      "outputs": []
    },
    {
      "cell_type": "code",
      "source": [
        "df.info()"
      ],
      "metadata": {
        "id": "yZOziY8B3f3b"
      },
      "execution_count": null,
      "outputs": []
    },
    {
      "cell_type": "code",
      "source": [
        "df.describe()"
      ],
      "metadata": {
        "id": "YZ3jXpne3iTr"
      },
      "execution_count": null,
      "outputs": []
    },
    {
      "cell_type": "code",
      "source": [
        "df.isnull().sum()"
      ],
      "metadata": {
        "id": "_Wzvkxz83ksZ"
      },
      "execution_count": null,
      "outputs": []
    },
    {
      "cell_type": "code",
      "source": [
        "df['sex'].unique()\n",
        "df['smoker'].unique()\n",
        "df['region'].unique()"
      ],
      "metadata": {
        "id": "BtF7bD0R38kZ"
      },
      "execution_count": null,
      "outputs": []
    },
    {
      "cell_type": "code",
      "source": [
        "df['sex'].value_counts()\n",
        "df['smoker'].value_counts()\n",
        "df['region'].value_counts()"
      ],
      "metadata": {
        "id": "0aDfJa6I3y2I"
      },
      "execution_count": null,
      "outputs": []
    },
    {
      "cell_type": "code",
      "source": [
        "df['sex'] = df['sex'].map({'male': 0, 'female': 1})\n",
        "df['smoker'] = df['smoker'].map({'no': 0, 'yes': 1})\n",
        "df = pd.get_dummies(df, columns=['region'], drop_first=True)"
      ],
      "metadata": {
        "id": "P_xYcQPN3-ay"
      },
      "execution_count": null,
      "outputs": []
    },
    {
      "cell_type": "code",
      "source": [
        "sns.heatmap(df.corr(), annot=True, cmap='Reds')\n",
        "plt.show()"
      ],
      "metadata": {
        "id": "foEWw_RG4BqF"
      },
      "execution_count": null,
      "outputs": []
    },
    {
      "cell_type": "code",
      "source": [
        "sns.scatterplot(data=df, x='age', y='charges', hue='smoker')\n",
        "plt.title('Charges vs Age')\n",
        "plt.show()"
      ],
      "metadata": {
        "id": "shtqff1i4Di0"
      },
      "execution_count": null,
      "outputs": []
    },
    {
      "cell_type": "code",
      "source": [
        "sns.histplot(df['age'], bins=30)\n",
        "plt.title('Age Distribution')\n",
        "plt.show()"
      ],
      "metadata": {
        "id": "t9T_Dr2U4GS5"
      },
      "execution_count": null,
      "outputs": []
    },
    {
      "cell_type": "code",
      "source": [
        "sns.histplot(df['bmi'], bins=30)\n",
        "plt.title('BMI Distribution')\n",
        "plt.show()"
      ],
      "metadata": {
        "id": "NacY_ugB4JbW"
      },
      "execution_count": null,
      "outputs": []
    },
    {
      "cell_type": "code",
      "source": [
        "sns.barplot(x='smoker', y='charges', data=df)\n",
        "plt.title('Average Charges by Smoking Status')\n",
        "plt.show()"
      ],
      "metadata": {
        "id": "1hsr5b7m4Lk0"
      },
      "execution_count": null,
      "outputs": []
    },
    {
      "cell_type": "code",
      "source": [
        "X = df.drop('charges', axis=1)\n",
        "y = df['charges']"
      ],
      "metadata": {
        "id": "O7o6kap64ONa"
      },
      "execution_count": null,
      "outputs": []
    },
    {
      "cell_type": "code",
      "source": [
        "from sklearn.model_selection import train_test_split\n",
        "X_train, X_test, y_train, y_test = train_test_split(X, y, test_size=0.2, random_state=42)"
      ],
      "metadata": {
        "id": "Ltr_jfkO4QqW"
      },
      "execution_count": null,
      "outputs": []
    },
    {
      "cell_type": "code",
      "source": [
        "from sklearn.linear_model import LinearRegression\n",
        "model = LinearRegression()\n",
        "model.fit(X_train, y_train)"
      ],
      "metadata": {
        "id": "pDOjjvjl4RjM"
      },
      "execution_count": null,
      "outputs": []
    },
    {
      "cell_type": "code",
      "source": [
        "y_pred = model.predict(X_test)"
      ],
      "metadata": {
        "id": "HaCGo1n84TzP"
      },
      "execution_count": null,
      "outputs": []
    },
    {
      "cell_type": "code",
      "source": [
        "from sklearn.metrics import mean_absolute_error, mean_squared_error, r2_score\n",
        "print('MAE:', mean_absolute_error(y_test, y_pred))\n",
        "print('MSE:', mean_squared_error(y_test, y_pred))\n",
        "print('RMSE:', np.sqrt(mean_squared_error(y_test, y_pred)))\n",
        "print('R2:', r2_score(y_test, y_pred))"
      ],
      "metadata": {
        "id": "HdZPe_3t4Vzq"
      },
      "execution_count": null,
      "outputs": []
    },
    {
      "cell_type": "code",
      "source": [
        "plt.scatter(y_test, y_pred)\n",
        "plt.xlabel('Actual Charges')\n",
        "plt.ylabel('Predicted Charges')\n",
        "plt.title('Actual vs Predicted Charges')\n",
        "plt.show()"
      ],
      "metadata": {
        "id": "QZT-VLdQ4coQ"
      },
      "execution_count": null,
      "outputs": []
    }
  ]
}